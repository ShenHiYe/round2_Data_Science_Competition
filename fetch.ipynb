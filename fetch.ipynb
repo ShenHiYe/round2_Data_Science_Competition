{
 "cells": [
  {
   "cell_type": "markdown",
   "id": "1815d82c",
   "metadata": {},
   "source": [
    "# 1. Đăng nhập "
   ]
  },
  {
   "cell_type": "code",
   "execution_count": null,
   "id": "f7f2b167",
   "metadata": {},
   "outputs": [],
   "source": [
    "import pandas as pd\n",
    "from FiinQuantX import FiinSession\n",
    "import json\n",
    "from datetime import datetime\n",
    "# --- 1. Đăng nhập ---\n",
    "username = 'DSTC_38@fiinquant.vn'\n",
    "password = 'Fiinquant0606'\n",
    "client = FiinSession(username=username, password=password).login()"
   ]
  },
  {
   "cell_type": "markdown",
   "id": "ff868937",
   "metadata": {},
   "source": [
    "# 2. Crawl Data from 2022 - 2025 "
   ]
  },
  {
   "cell_type": "code",
   "execution_count": null,
   "id": "8582e4db",
   "metadata": {},
   "outputs": [],
   "source": [
    "# --- Lấy danh sách mã VN30 và VNMid---\n",
    "tickers_vn30 = list(client.TickerList(ticker=\"VN30\"))\n",
    "tickers_vnmid = list(client.TickerList(ticker=\"VNMid\"))\n",
    "tickers = tickers_vn30 + tickers_vnmid\n",
    "\n",
    "data = client.Fetch_Trading_Data(\n",
    "    realtime=False,\n",
    "    tickers=tickers,\n",
    "    fields = ['open', 'high', 'low', 'close', 'volume', 'bu','sd', 'fb', 'fs', 'fn'], \n",
    "    adjusted=True,\n",
    "    by=\"1d\",\n",
    "    from_date=\"2019-01-01\",\n",
    "    to_date=datetime.today().strftime(\"%Y-%m-%d\") \n",
    ").get_data()"
   ]
  },
  {
   "cell_type": "markdown",
   "id": "d9aaa452",
   "metadata": {},
   "source": [
    "# 3. Tính các chỉ báo: "
   ]
  },
  {
   "cell_type": "code",
   "execution_count": null,
   "id": "1ced8842",
   "metadata": {},
   "outputs": [],
   "source": [
    "fi = client.FiinIndicator()\n",
    "\n",
    "# RSI (14 ngày)\n",
    "data['RSI_14'] = fi.rsi(data['close'], window=14)\n",
    "\n",
    "# MA20, MA50, MA200\n",
    "data['MA20'] = fi.sma(data['close'], window=20)\n",
    "data['MA50'] = fi.sma(data['close'], window=50)\n",
    "data['MA200'] = fi.sma(data['close'], window=200)\n",
    "\n",
    "# ATR (20 ngày)\n",
    "data['ATR20'] = fi.atr(data['high'], data['low'], data['close'], window=20)\n",
    "\n",
    "# Volume trung bình 20 ngày\n",
    "data['Vol_Avg20'] = fi.sma(data['volume'], window=20)\n",
    "\n",
    "print(data.tail(30))  \n",
    "data.to_csv(\"data.csv\")"
   ]
  },
  {
   "cell_type": "markdown",
   "id": "e7a11fc8",
   "metadata": {},
   "source": [
    "# 4. Crawl Financial Report from 2022 to 2025"
   ]
  },
  {
   "cell_type": "code",
   "execution_count": null,
   "id": "1568cf28",
   "metadata": {},
   "outputs": [],
   "source": [
    "fa = client.FundamentalAnalysis()\n",
    "all_ratios = []\n",
    "for year in range(2019, datetime.now().year + 1):\n",
    "    ratios = fa.get_ratios(\n",
    "        tickers=tickers,\n",
    "        TimeFilter=\"Quarterly\",   \n",
    "        NumberOfPeriod=4,         \n",
    "        LatestYear=year,\n",
    "        Consolidated=True\n",
    "    )\n",
    "    all_ratios.extend(ratios)\n",
    "df = pd.DataFrame(all_ratios)\n",
    "print(df.head(20))\n",
    "print(\"Số dòng:\", len(df))\n",
    "df.to_csv(\"fundamental_ratios.csv\", index=False, encoding=\"utf-8-sig\")\n",
    "print(\"✅ Đã lưu fundamental_ratios.csv từ 2019 đến nay\")"
   ]
  },
  {
   "cell_type": "markdown",
   "id": "622cf85f",
   "metadata": {},
   "source": [
    "# 5. Parsing to take out indicators: PE, PB, ROE, EPS,...."
   ]
  },
  {
   "cell_type": "code",
   "execution_count": null,
   "id": "a67afa6b",
   "metadata": {},
   "outputs": [],
   "source": [
    "import pandas as pd\n",
    "import ast\n",
    "\n",
    "def extract_ratios(df: pd.DataFrame, drop_empty: bool = True) -> pd.DataFrame:\n",
    "    # Chuyển cột ratios từ string sang dict, bỏ qua giá trị trống\n",
    "    def safe_eval(x):\n",
    "        if pd.isna(x) or str(x).strip() == \"\":\n",
    "            return {}\n",
    "        return ast.literal_eval(x)\n",
    "\n",
    "    df['ratios'] = df['ratios'].apply(safe_eval)\n",
    "    if drop_empty:\n",
    "        df = df[df['ratios'].apply(lambda r: len(r) > 0)].reset_index(drop=True)\n",
    "    def flatten_ratios(ratios_dict):\n",
    "        flat = {}\n",
    "        for category, metrics in ratios_dict.items():\n",
    "            for key, value in metrics.items():\n",
    "                if key == \"BasicEPS\":\n",
    "                    flat[\"EPS\"] = value\n",
    "                elif key == \"PriceToBook\":\n",
    "                    flat[\"PB\"] = value\n",
    "                elif key == \"PriceToEarning\":\n",
    "                    flat[\"PE\"] = value\n",
    "                else:\n",
    "                    flat[key] = value\n",
    "        return flat\n",
    "\n",
    "    ratios_expanded = df['ratios'].apply(flatten_ratios).apply(pd.Series)\n",
    "    df_final = pd.concat([df.drop(columns=['ratios']), ratios_expanded], axis=1)\n",
    "\n",
    "    return df_final\n",
    "\n",
    "df = pd.read_csv(\"fundamental_ratios.csv\")\n",
    "df_extracted = extract_ratios(df)\n",
    "\n",
    "output_file = \"fundamental_ratios_extracted.csv\"\n",
    "df_extracted.to_csv(output_file, index=False, encoding=\"utf-8-sig\")\n",
    "\n",
    "print(f\"✅ Đã lưu file kết quả tại: {output_file}\")\n"
   ]
  },
  {
   "cell_type": "markdown",
   "id": "5fb9d936",
   "metadata": {},
   "source": [
    "# 6. Crawl VNINDEX"
   ]
  },
  {
   "cell_type": "code",
   "execution_count": null,
   "id": "925f7c20",
   "metadata": {},
   "outputs": [],
   "source": [
    "\n",
    "vnindex = client.Fetch_Trading_Data(\n",
    "    realtime=False,\n",
    "    tickers=[\"VNINDEX\"],  \n",
    "    fields=[\"close\"],\n",
    "    adjusted=True,\n",
    "    by=\"1d\",\n",
    "    from_date=\"2022-01-01\",\n",
    "    to_date=datetime.today().strftime(\"%Y-%m-%d\")\n",
    ").get_data()\n",
    "\n",
    "\n",
    "vnindex[\"daily_return\"] = vnindex[\"close\"].pct_change()\n",
    "vnindex[\"equity_curve\"] = (1 + vnindex[\"daily_return\"].fillna(0)).cumprod()\n",
    "\n",
    "\n",
    "vnindex.to_csv(\"vnindex_equity.csv\", index=False, encoding=\"utf-8-sig\")\n",
    "\n",
    "print(\"✅ Đã lưu file vnindex_equity.csv\")\n",
    "print(vnindex.head())\n",
    "print(vnindex.tail())"
   ]
  }
 ],
 "metadata": {
  "kernelspec": {
   "display_name": "fiinquantx_env",
   "language": "python",
   "name": "python3"
  },
  "language_info": {
   "name": "python",
   "version": "3.12.5"
  }
 },
 "nbformat": 4,
 "nbformat_minor": 5
}
