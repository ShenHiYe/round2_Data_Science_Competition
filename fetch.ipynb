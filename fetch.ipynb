{
 "cells": [
  {
   "cell_type": "markdown",
   "id": "1815d82c",
   "metadata": {},
   "source": [
    "# 1. Đăng nhập "
   ]
  },
  {
   "cell_type": "code",
   "execution_count": 3,
   "id": "f7f2b167",
   "metadata": {},
   "outputs": [],
   "source": [
    "import pandas as pd\n",
    "from FiinQuantX import FiinSession\n",
    "import json\n",
    "from datetime import datetime\n",
    "# --- 1. Đăng nhập ---\n",
    "username = 'DSTC_38@fiinquant.vn'\n",
    "password = 'Fiinquant0606'\n",
    "client = FiinSession(username=username, password=password).login()"
   ]
  },
  {
   "cell_type": "markdown",
   "id": "ff868937",
   "metadata": {},
   "source": [
    "# 2. Crawl Data from 2022 - 2025 "
   ]
  },
  {
   "cell_type": "code",
   "execution_count": 2,
   "id": "8582e4db",
   "metadata": {},
   "outputs": [
    {
     "name": "stdout",
     "output_type": "stream",
     "text": [
      "Fetching data, it may take a while. Please wait...\n"
     ]
    }
   ],
   "source": [
    "# --- Lấy danh sách mã VN30 và VNMid---\n",
    "tickers_vn30 = list(client.TickerList(ticker=\"VN30\"))\n",
    "tickers_vnmid = list(client.TickerList(ticker=\"VNMid\"))\n",
    "tickers = tickers_vn30 + tickers_vnmid\n",
    "\n",
    "data = client.Fetch_Trading_Data(\n",
    "    realtime=False,\n",
    "    tickers=tickers,\n",
    "    fields = ['open', 'high', 'low', 'close', 'volume', 'bu','sd', 'fb', 'fs', 'fn'], \n",
    "    adjusted=True,\n",
    "    by=\"1d\",\n",
    "    from_date=\"2019-01-01\",\n",
    "    to_date=datetime.today().strftime(\"%Y-%m-%d\") \n",
    ").get_data()"
   ]
  },
  {
   "cell_type": "markdown",
   "id": "d9aaa452",
   "metadata": {},
   "source": [
    "# 3. Indicators: "
   ]
  },
  {
   "cell_type": "code",
   "execution_count": 3,
   "id": "1ced8842",
   "metadata": {},
   "outputs": [
    {
     "name": "stdout",
     "output_type": "stream",
     "text": [
      "       ticker         timestamp      open      high       low     close  \\\n",
      "161391    VTP  2025-07-23 00:00  121100.0  122100.0  120400.0  121000.0   \n",
      "161392    VTP  2025-07-24 00:00  121000.0  121900.0  120300.0  120400.0   \n",
      "161393    VTP  2025-07-25 00:00  120500.0  123300.0  120100.0  121500.0   \n",
      "161394    VTP  2025-07-28 00:00  121800.0  123000.0  121300.0  121700.0   \n",
      "161395    VTP  2025-07-29 00:00  122000.0  122000.0  114000.0  114000.0   \n",
      "161396    VTP  2025-07-30 00:00  112000.0  116000.0  112000.0  114000.0   \n",
      "161397    VTP  2025-07-31 00:00  114200.0  115400.0  110700.0  111000.0   \n",
      "161398    VTP  2025-08-01 00:00  110600.0  112700.0  107300.0  109000.0   \n",
      "161399    VTP  2025-08-04 00:00  112000.0  113500.0  110600.0  113500.0   \n",
      "161400    VTP  2025-08-05 00:00  114500.0  115500.0  112600.0  115000.0   \n",
      "161401    VTP  2025-08-06 00:00  116600.0  117500.0  113800.0  117400.0   \n",
      "161402    VTP  2025-08-07 00:00  118500.0  118600.0  115500.0  116800.0   \n",
      "161403    VTP  2025-08-08 00:00  117000.0  120700.0  114500.0  118000.0   \n",
      "161404    VTP  2025-08-11 00:00  118000.0  118700.0  117100.0  118000.0   \n",
      "161405    VTP  2025-08-12 00:00  119000.0  119100.0  116000.0  116600.0   \n",
      "161406    VTP  2025-08-13 00:00  116300.0  117000.0  114000.0  114900.0   \n",
      "161407    VTP  2025-08-14 00:00  115900.0  115900.0  112400.0  112500.0   \n",
      "161408    VTP  2025-08-15 00:00  112700.0  113100.0  109600.0  109800.0   \n",
      "161409    VTP  2025-08-18 00:00  110500.0  111500.0  108900.0  109200.0   \n",
      "161410    VTP  2025-08-19 00:00  109300.0  110500.0  108500.0  108500.0   \n",
      "161411    VTP  2025-08-20 00:00  109000.0  109000.0  103800.0  104000.0   \n",
      "161412    VTP  2025-08-21 00:00  102600.0  103900.0   99900.0  102600.0   \n",
      "161413    VTP  2025-08-22 00:00  102500.0  102500.0   97800.0   98600.0   \n",
      "161414    VTP  2025-08-25 00:00   98900.0  101400.0   98600.0   99200.0   \n",
      "161415    VTP  2025-08-26 00:00   98800.0  100200.0   98800.0   99900.0   \n",
      "161416    VTP  2025-08-27 00:00  100900.0  103500.0  100500.0  101700.0   \n",
      "161417    VTP  2025-08-28 00:00  102500.0  102600.0   99900.0  100400.0   \n",
      "161418    VTP  2025-08-29 00:00  101000.0  101600.0   99000.0   99000.0   \n",
      "161419    VTP  2025-09-03 00:00  100100.0  101900.0   99200.0  101600.0   \n",
      "161420    VTP  2025-09-04 00:00  102100.0  108000.0  102100.0  105200.0   \n",
      "\n",
      "           volume        bu         sd            fb            fs  \\\n",
      "161391   793272.0  224400.0   520300.0  9.076000e+08  1.306183e+10   \n",
      "161392   619570.0  173400.0   407300.0  0.000000e+00  1.245840e+09   \n",
      "161393  1131736.0  541000.0   547800.0  1.075158e+10  4.504589e+09   \n",
      "161394   905362.0  339000.0   532000.0  6.653840e+09  2.684240e+09   \n",
      "161395  1479591.0  326900.0  1013700.0  1.532310e+09  1.356582e+09   \n",
      "161396   793815.0  331900.0   406600.0  7.642400e+08  3.603610e+09   \n",
      "161397   924246.0  274400.0   557000.0  3.917400e+08  1.867626e+10   \n",
      "161398  2286596.0  503700.0   750900.0  7.707200e+09  1.252632e+10   \n",
      "161399   541257.0  201600.0   253100.0  2.221100e+08  3.725320e+09   \n",
      "161400  1240210.0  503900.0   624000.0  9.694256e+08  1.290807e+10   \n",
      "161401   847199.0  506000.0   303800.0  3.530020e+09  1.701208e+10   \n",
      "161402   731616.0  420300.0   268900.0  6.873800e+08  1.198025e+09   \n",
      "161403  1384781.0  700400.0   639200.0  1.598910e+10  2.027860e+09   \n",
      "161404   438025.0  201800.0   194600.0  4.776437e+09  4.880528e+09   \n",
      "161405   539404.0  179400.0   303300.0  7.441490e+09  1.938866e+09   \n",
      "161406   731019.0  200700.0   502400.0  1.423410e+09  9.775470e+09   \n",
      "161407   988729.0  292400.0   583000.0  9.935370e+09  2.635158e+10   \n",
      "161408   939779.0  242200.0   672700.0  6.595430e+09  1.254161e+10   \n",
      "161409   503574.0  148100.0   334300.0  3.789575e+09  5.849384e+09   \n",
      "161410   696564.0  260900.0   415700.0  1.391670e+10  4.845630e+09   \n",
      "161411   849131.0  220900.0   541900.0  5.375390e+09  1.268789e+10   \n",
      "161412  1141903.0  397600.0   688300.0  1.444297e+10  9.024580e+09   \n",
      "161413   734474.0  167500.0   542800.0  3.187959e+09  2.422508e+10   \n",
      "161414   616342.0  291200.0   300100.0  2.173390e+09  1.513442e+10   \n",
      "161415   249433.0   90600.0   134600.0  6.990000e+07  6.322350e+09   \n",
      "161416   464383.0  226400.0   220900.0  3.388800e+09  1.111326e+10   \n",
      "161417   314862.0   82700.0   223200.0  1.802540e+09  5.478463e+09   \n",
      "161418   558498.0  153400.0   327300.0  1.435905e+09  1.068265e+09   \n",
      "161419   398315.0  269100.0   112100.0  6.460900e+09  2.451569e+09   \n",
      "161420   667964.0  324400.0   315500.0  4.791310e+09  2.921495e+09   \n",
      "\n",
      "                  fn     RSI_14      MA20      MA50     MA200        ATR20  \\\n",
      "161391 -1.215423e+10  54.064989  120415.0  116326.0  125151.0  3293.859196   \n",
      "161392 -1.245840e+09  52.124086  120725.0  116440.0  125374.0  3209.166237   \n",
      "161393  6.246991e+09  55.292855  120910.0  116468.0  125601.0  3208.707925   \n",
      "161394  3.969600e+09  55.864835  121095.0  116572.0  125827.5  3133.272529   \n",
      "161395  1.757280e+08  36.502103  121000.0  116560.0  126015.0  3376.608902   \n",
      "161396 -2.839370e+09  36.502103  120875.0  116570.0  126176.0  3407.778457   \n",
      "161397 -1.828452e+10  31.559477  120555.0  116610.0  126321.0  3472.389534   \n",
      "161398 -4.819122e+09  28.763256  119955.0  116610.0  126437.5  3568.770057   \n",
      "161399 -3.503210e+09  41.353900  119600.0  116654.0  126580.0  3615.331555   \n",
      "161400 -1.193864e+10  44.852794  119360.0  116734.0  126737.5  3579.564977   \n",
      "161401 -1.348206e+10  49.993500  119205.0  116890.0  126892.0  3585.586728   \n",
      "161402 -5.106450e+08  48.769526  118940.0  117036.0  127048.5  3561.307392   \n",
      "161403  1.396124e+10  51.335688  118705.0  117256.0  127205.5  3693.242022   \n",
      "161404 -1.040903e+08  51.335688  118415.0  117452.0  127365.5  3588.579921   \n",
      "161405  5.502624e+09  48.077235  117980.0  117626.0  127519.0  3564.150925   \n",
      "161406 -8.352060e+09  44.392492  117520.0  117738.0  127659.5  3535.943379   \n",
      "161407 -1.641621e+10  39.759557  116940.0  117748.0  127788.0  3534.146210   \n",
      "161408 -5.946180e+09  35.296654  116350.0  117754.0  127884.5  3532.438899   \n",
      "161409 -2.059809e+09  34.373298  115765.0  117726.0  127981.0  3485.816954   \n",
      "161410  9.071070e+09  33.279483  115140.0  117596.0  128075.0  3411.526107   \n",
      "161411 -7.312500e+09  27.271476  114290.0  117216.0  128142.5  3500.949801   \n",
      "161412  5.418390e+09  25.716020  113400.0  116808.0  128207.0  3530.902311   \n",
      "161413 -2.103712e+10  21.876750  112255.0  116420.0  128257.0  3594.357196   \n",
      "161414 -1.296104e+10  23.716470  111130.0  115984.0  128294.0  3554.639336   \n",
      "161415 -6.252450e+09  25.908621  110425.0  115622.0  128314.0  3446.907369   \n",
      "161416 -7.724460e+09  31.370122  109810.0  115346.0  128345.0  3454.562001   \n",
      "161417 -3.675923e+09  29.669121  109280.0  115036.0  128336.5  3416.833901   \n",
      "161418  3.676401e+08  27.913723  108780.0  114736.0  128288.0  3375.992206   \n",
      "161419  4.009331e+09  35.541233  108185.0  114510.0  128266.0  3352.192595   \n",
      "161420  1.869815e+09  44.325410  107695.0  114328.0  128225.0  3504.582965   \n",
      "\n",
      "         Vol_Avg20  \n",
      "161391   961530.55  \n",
      "161392   974942.45  \n",
      "161393   980397.15  \n",
      "161394   991249.60  \n",
      "161395  1026321.35  \n",
      "161396  1037608.60  \n",
      "161397  1025263.45  \n",
      "161398  1061712.05  \n",
      "161399  1037598.40  \n",
      "161400  1048868.50  \n",
      "161401  1042284.60  \n",
      "161402  1018565.65  \n",
      "161403  1017523.25  \n",
      "161404   976361.05  \n",
      "161405   928749.65  \n",
      "161406   929320.65  \n",
      "161407   918510.85  \n",
      "161408   919264.30  \n",
      "161409   923443.55  \n",
      "161410   925817.25  \n",
      "161411   928610.20  \n",
      "161412   954726.85  \n",
      "161413   934863.75  \n",
      "161414   920412.75  \n",
      "161415   858904.85  \n",
      "161416   842433.25  \n",
      "161417   811964.05  \n",
      "161418   725559.15  \n",
      "161419   718412.05  \n",
      "161420   689799.75  \n"
     ]
    }
   ],
   "source": [
    "fi = client.FiinIndicator()\n",
    "\n",
    "# RSI (14 ngày)\n",
    "data['RSI_14'] = fi.rsi(data['close'], window=14)\n",
    "\n",
    "# MA20, MA50, MA200\n",
    "data['MA20'] = fi.sma(data['close'], window=20)\n",
    "data['MA50'] = fi.sma(data['close'], window=50)\n",
    "data['MA200'] = fi.sma(data['close'], window=200)\n",
    "\n",
    "# ATR (20 ngày)\n",
    "data['ATR20'] = fi.atr(data['high'], data['low'], data['close'], window=20)\n",
    "\n",
    "# Volume trung bình 20 ngày\n",
    "data['Vol_Avg20'] = fi.sma(data['volume'], window=20)\n",
    "\n",
    "print(data.tail(30))  \n",
    "data.to_csv(\"data/data.csv\")"
   ]
  },
  {
   "cell_type": "markdown",
   "id": "e7a11fc8",
   "metadata": {},
   "source": [
    "# 4. Crawl Financial Report from 2022 to 2025"
   ]
  },
  {
   "cell_type": "code",
   "execution_count": null,
   "id": "1568cf28",
   "metadata": {},
   "outputs": [],
   "source": [
    "fa = client.FundamentalAnalysis()\n",
    "all_ratios = []\n",
    "for year in range(2019, datetime.now().year + 1):\n",
    "    ratios = fa.get_ratios(\n",
    "        tickers=tickers,\n",
    "        TimeFilter=\"Quarterly\",   \n",
    "        NumberOfPeriod=4,         \n",
    "        LatestYear=year,\n",
    "        Consolidated=True\n",
    "    )\n",
    "    all_ratios.extend(ratios)\n",
    "df = pd.DataFrame(all_ratios)\n",
    "print(df.head(20))\n",
    "print(\"Số dòng:\", len(df))\n",
    "df.to_csv(\"data/fundamental_ratios.csv\", index=False, encoding=\"utf-8-sig\")\n",
    "print(\"✅ Đã lưu fundamental_ratios.csv từ 2019 đến nay\")"
   ]
  },
  {
   "cell_type": "markdown",
   "id": "622cf85f",
   "metadata": {},
   "source": [
    "# 5. Parsing to take out indicators: PE, PB, ROE, EPS,...."
   ]
  },
  {
   "cell_type": "code",
   "execution_count": 1,
   "id": "a67afa6b",
   "metadata": {},
   "outputs": [
    {
     "name": "stdout",
     "output_type": "stream",
     "text": [
      "✅ Đã lưu file kết quả tại: data/fundamental_ratios_extracted_2019_2025.csv\n"
     ]
    }
   ],
   "source": [
    "import pandas as pd\n",
    "import ast\n",
    "\n",
    "def extract_ratios(df: pd.DataFrame, drop_empty: bool = True) -> pd.DataFrame:\n",
    "    # Chuyển cột ratios từ string sang dict, bỏ qua giá trị trống\n",
    "    def safe_eval(x):\n",
    "        if pd.isna(x) or str(x).strip() == \"\":\n",
    "            return {}\n",
    "        return ast.literal_eval(x)\n",
    "\n",
    "    df['ratios'] = df['ratios'].apply(safe_eval)\n",
    "    if drop_empty:\n",
    "        df = df[df['ratios'].apply(lambda r: len(r) > 0)].reset_index(drop=True)\n",
    "    def flatten_ratios(ratios_dict):\n",
    "        flat = {}\n",
    "        for category, metrics in ratios_dict.items():\n",
    "            for key, value in metrics.items():\n",
    "                if key == \"BasicEPS\":\n",
    "                    flat[\"EPS\"] = value\n",
    "                elif key == \"PriceToBook\":\n",
    "                    flat[\"PB\"] = value\n",
    "                elif key == \"PriceToEarning\":\n",
    "                    flat[\"PE\"] = value\n",
    "                else:\n",
    "                    flat[key] = value\n",
    "        return flat\n",
    "\n",
    "    ratios_expanded = df['ratios'].apply(flatten_ratios).apply(pd.Series)\n",
    "    df_final = pd.concat([df.drop(columns=['ratios']), ratios_expanded], axis=1)\n",
    "\n",
    "    return df_final\n",
    "\n",
    "df = pd.read_csv(\"data/fundamental_ratios_2019_2025.csv\")\n",
    "df_extracted = extract_ratios(df)\n",
    "\n",
    "output_file = \"data/fundamental_ratios_extracted_2019_2025.csv\"\n",
    "df_extracted.to_csv(output_file, index=False, encoding=\"utf-8-sig\")\n",
    "\n",
    "print(f\"✅ Đã lưu file kết quả tại: {output_file}\")\n"
   ]
  },
  {
   "cell_type": "markdown",
   "id": "5fb9d936",
   "metadata": {},
   "source": [
    "# 6. Crawl VNINDEX"
   ]
  },
  {
   "cell_type": "code",
   "execution_count": 4,
   "id": "925f7c20",
   "metadata": {},
   "outputs": [
    {
     "name": "stdout",
     "output_type": "stream",
     "text": [
      "Fetching data, it may take a while. Please wait...\n",
      "✅ Saved to vnindex_equity.csv\n",
      "    ticker         timestamp   close  daily_return  equity_curve\n",
      "0  VNINDEX  2019-01-02 00:00  891.75           NaN      1.000000\n",
      "1  VNINDEX  2019-01-03 00:00  878.22     -0.015172      0.984828\n",
      "2  VNINDEX  2019-01-04 00:00  880.90      0.003052      0.987833\n",
      "3  VNINDEX  2019-01-07 00:00  889.64      0.009922      0.997634\n",
      "4  VNINDEX  2019-01-08 00:00  887.44     -0.002473      0.995167\n",
      "       ticker         timestamp    close  daily_return  equity_curve\n",
      "1660  VNINDEX  2025-08-27 00:00  1672.78      0.003088      1.875840\n",
      "1661  VNINDEX  2025-08-28 00:00  1680.86      0.004830      1.884900\n",
      "1662  VNINDEX  2025-08-29 00:00  1682.21      0.000803      1.886414\n",
      "1663  VNINDEX  2025-09-03 00:00  1681.30     -0.000541      1.885394\n",
      "1664  VNINDEX  2025-09-04 00:00  1696.29      0.008916      1.902204\n"
     ]
    }
   ],
   "source": [
    "vnindex = client.Fetch_Trading_Data(\n",
    "    realtime=False,\n",
    "    tickers=[\"VNINDEX\"],  \n",
    "    fields=[\"close\"],\n",
    "    adjusted=True,\n",
    "    by=\"1d\",\n",
    "    from_date=\"2019-01-01\",\n",
    "    to_date=datetime.today().strftime(\"%Y-%m-%d\")\n",
    ").get_data()\n",
    "\n",
    "\n",
    "vnindex[\"daily_return\"] = vnindex[\"close\"].pct_change()\n",
    "vnindex[\"equity_curve\"] = (1 + vnindex[\"daily_return\"].fillna(0)).cumprod()\n",
    "\n",
    "\n",
    "vnindex.to_csv(\"data/vnindex_equity.csv\", index=False, encoding=\"utf-8-sig\")\n",
    "\n",
    "print(\"✅ Saved to vnindex_equity.csv\")\n",
    "print(vnindex.head())\n",
    "print(vnindex.tail())"
   ]
  },
  {
   "cell_type": "code",
   "execution_count": null,
   "id": "98743f24",
   "metadata": {},
   "outputs": [],
   "source": []
  }
 ],
 "metadata": {
  "kernelspec": {
   "display_name": "fiinquantx_env",
   "language": "python",
   "name": "python3"
  },
  "language_info": {
   "codemirror_mode": {
    "name": "ipython",
    "version": 3
   },
   "file_extension": ".py",
   "mimetype": "text/x-python",
   "name": "python",
   "nbconvert_exporter": "python",
   "pygments_lexer": "ipython3",
   "version": "3.12.5"
  }
 },
 "nbformat": 4,
 "nbformat_minor": 5
}
