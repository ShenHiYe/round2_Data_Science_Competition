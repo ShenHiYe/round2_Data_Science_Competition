{
 "cells": [
  {
   "cell_type": "markdown",
   "id": "b410d825",
   "metadata": {},
   "source": [
    "# 1. Import thư viện "
   ]
  },
  {
   "cell_type": "code",
   "execution_count": 10,
   "id": "a3696c57",
   "metadata": {},
   "outputs": [],
   "source": [
    "import pandas as pd\n",
    "import numpy as np\n",
    "from sklearn.preprocessing import StandardScaler\n",
    "from sklearn.svm import LinearSVC\n",
    "from sklearn.metrics import classification_report, confusion_matrix\n",
    "from sklearn.model_selection import GridSearchCV\n",
    "from imblearn.over_sampling import SMOTE\n",
    "from imblearn.pipeline import Pipeline as ImbPipeline"
   ]
  },
  {
   "cell_type": "markdown",
   "id": "0ef8b079",
   "metadata": {},
   "source": [
    "# 2. Merge Data"
   ]
  },
  {
   "cell_type": "code",
   "execution_count": 11,
   "id": "f9a2bb87",
   "metadata": {},
   "outputs": [
    {
     "name": "stdout",
     "output_type": "stream",
     "text": [
      "Sau merge: (161421, 34)\n"
     ]
    },
    {
     "name": "stderr",
     "output_type": "stream",
     "text": [
      "C:\\Users\\Admin\\AppData\\Local\\Temp\\ipykernel_9172\\2843885338.py:6: UserWarning: Could not infer format, so each element will be parsed individually, falling back to `dateutil`. To ensure parsing is consistent and as-expected, please specify a format.\n",
      "  df_ratios[\"report_date\"] = pd.to_datetime(\n"
     ]
    }
   ],
   "source": [
    "data = pd.read_csv(\"data/data_2019_2025.csv\")\n",
    "df_ratios = pd.read_csv(\"data/fundamental_ratios_extracted_2019_2025.csv\")\n",
    "\n",
    "\n",
    "data[\"date\"] = pd.to_datetime(data[\"timestamp\"])\n",
    "df_ratios[\"report_date\"] = pd.to_datetime(\n",
    "    df_ratios[\"year\"].astype(str) + \"Q\" + df_ratios[\"quarter\"].astype(str)\n",
    ")\n",
    "\n",
    "data = pd.merge_asof(\n",
    "    data.sort_values(\"date\"),\n",
    "    df_ratios.sort_values(\"report_date\"),\n",
    "    by=\"ticker\",\n",
    "    left_on=\"date\",\n",
    "    right_on=\"report_date\",\n",
    "    direction=\"backward\"\n",
    ")\n",
    "print(\"Sau merge:\", data.shape)"
   ]
  },
  {
   "cell_type": "markdown",
   "id": "ecca5c05",
   "metadata": {},
   "source": [
    "# 3. Predict whether this ticker will increase by 10% in 20 days later: "
   ]
  },
  {
   "cell_type": "code",
   "execution_count": 12,
   "id": "07c6bdc8",
   "metadata": {},
   "outputs": [
    {
     "name": "stdout",
     "output_type": "stream",
     "text": [
      "Số label 1: 17403 / 161421\n"
     ]
    }
   ],
   "source": [
    "future_days = 20\n",
    "threshold = 0.15\n",
    "\n",
    "data[\"future_close\"] = data.groupby(\"ticker\")[\"close\"].shift(-future_days)\n",
    "data[\"future_return\"] = (data[\"future_close\"] - data[\"close\"]) / data[\"close\"]\n",
    "data[\"label\"] = (data[\"future_return\"] >= threshold).astype(int)\n",
    "\n",
    "print(\"Số label 1:\", data[\"label\"].sum(), \"/\", len(data))"
   ]
  },
  {
   "cell_type": "markdown",
   "id": "4d009c6b",
   "metadata": {},
   "source": [
    "# 4. SVM regression: "
   ]
  },
  {
   "cell_type": "code",
   "execution_count": 13,
   "id": "936cc0f7",
   "metadata": {},
   "outputs": [
    {
     "name": "stdout",
     "output_type": "stream",
     "text": [
      "Sau dropna: (111177, 37)\n",
      "Train samples: (77707, 8) Test samples: (20105, 8) Predict samples: (13365, 8)\n"
     ]
    }
   ],
   "source": [
    "features = [\"RSI_14\", \"MA20\", \"MA50\", \"MA200\", \"ATR20\", \"Vol_Avg20\", \"PE\", \"ROE\"]\n",
    "\n",
    "df_ml = data.dropna(subset=features + [\"label\"]).copy()\n",
    "print(\"Sau dropna:\", df_ml.shape)\n",
    "\n",
    "if df_ml.empty:\n",
    "    raise ValueError(\"❌ Không còn sample nào sau khi dropna. Kiểm tra dữ liệu merge hoặc label.\")\n",
    "\n",
    "X = df_ml[features].values\n",
    "y = df_ml[\"label\"].values\n",
    "time_index = df_ml[\"date\"]\n",
    "\n",
    "# Train/Test/Pred split\n",
    "train_mask = time_index.dt.year <= 2023\n",
    "test_mask = time_index.dt.year == 2024\n",
    "pred_mask = time_index.dt.year == 2025\n",
    "\n",
    "X_train, y_train = X[train_mask], y[train_mask]\n",
    "X_test, y_test = X[test_mask], y[test_mask]\n",
    "X_pred, df_pred = X[pred_mask], df_ml[pred_mask]\n",
    "\n",
    "print(\"Train samples:\", X_train.shape, \"Test samples:\", X_test.shape, \"Predict samples:\", X_pred.shape)\n",
    "\n",
    "if len(X_train) == 0 or len(X_test) == 0:\n",
    "    raise ValueError(\"❌ Train/Test rỗng. Kiểm tra lại khoảng thời gian và dữ liệu.\")"
   ]
  },
  {
   "cell_type": "markdown",
   "id": "aabdfe8d",
   "metadata": {},
   "source": [
    "# 5. Grid SearchCV & SMOTE for class imbalancing "
   ]
  },
  {
   "cell_type": "code",
   "execution_count": 14,
   "id": "12132dd1",
   "metadata": {},
   "outputs": [
    {
     "name": "stdout",
     "output_type": "stream",
     "text": [
      "Fitting 5 folds for each of 5 candidates, totalling 25 fits\n",
      "Best params: {'clf__C': 0.01}\n",
      "Best CV score: 0.29402722112487983\n"
     ]
    }
   ],
   "source": [
    "pipeline = ImbPipeline([\n",
    "    ('scaler', StandardScaler()),\n",
    "    ('smote', SMOTE(random_state=42)),  \n",
    "    ('clf', LinearSVC(max_iter=5000, class_weight=\"balanced\", random_state=42))\n",
    "])\n",
    "\n",
    "param_grid = {'clf__C': [0.01, 0.1, 1, 10, 100]}\n",
    "\n",
    "grid_search = GridSearchCV(\n",
    "    estimator=pipeline,\n",
    "    param_grid=param_grid,\n",
    "    scoring='f1',\n",
    "    cv=5,\n",
    "    n_jobs=-1,\n",
    "    verbose=2\n",
    ")\n",
    "\n",
    "grid_search.fit(X_train, y_train)\n",
    "\n",
    "print(\"Best params:\", grid_search.best_params_)\n",
    "print(\"Best CV score:\", grid_search.best_score_)\n"
   ]
  },
  {
   "cell_type": "markdown",
   "id": "c3d05ee9",
   "metadata": {},
   "source": [
    "# 6. Validation for 2024 "
   ]
  },
  {
   "cell_type": "code",
   "execution_count": 15,
   "id": "f9220014",
   "metadata": {},
   "outputs": [
    {
     "name": "stdout",
     "output_type": "stream",
     "text": [
      "\n",
      "Kết quả trên Test (2024):\n",
      "              precision    recall  f1-score   support\n",
      "\n",
      "           0     0.9486    0.7896    0.8618     19047\n",
      "           1     0.0572    0.2297    0.0915      1058\n",
      "\n",
      "    accuracy                         0.7601     20105\n",
      "   macro avg     0.5029    0.5096    0.4767     20105\n",
      "weighted avg     0.9017    0.7601    0.8213     20105\n",
      "\n",
      "Confusion Matrix 2024:\n",
      " [[15039  4008]\n",
      " [  815   243]]\n"
     ]
    }
   ],
   "source": [
    "best_model = grid_search.best_estimator_\n",
    "\n",
    "y_pred_test = best_model.predict(X_test)\n",
    "print(\"\\nKết quả trên Test (2024):\")\n",
    "print(classification_report(y_test, y_pred_test, digits=4))\n",
    "cm_test = confusion_matrix(y_test, y_pred_test)\n",
    "print(\"Confusion Matrix 2024:\\n\", cm_test)"
   ]
  },
  {
   "cell_type": "markdown",
   "id": "1c6d276d",
   "metadata": {},
   "source": [
    "# 8. Prediction for 2025 "
   ]
  },
  {
   "cell_type": "code",
   "execution_count": 16,
   "id": "71134145",
   "metadata": {},
   "outputs": [
    {
     "name": "stdout",
     "output_type": "stream",
     "text": [
      "\n",
      "Kết quả dự đoán cho 2025:\n",
      "Accuracy 2025: 75.21%\n",
      "\n",
      "So sánh nhãn thực tế vs dự đoán (sample):\n",
      "       ticker       date          close   future_close  future_return  label  \\\n",
      "144921    DXG 2025-01-02   12873.987126   12991.440000       0.009123      0   \n",
      "144922    BSI 2025-01-02   43773.165000   41909.510000      -0.042575      0   \n",
      "144923    SBT 2025-01-02   11681.935000   13500.000000       0.155630      1   \n",
      "144924    DSE 2025-01-02   26300.000000   25500.000000      -0.030418      0   \n",
      "144925    VTP 2025-01-02  144000.000000  161500.000000       0.121528      0   \n",
      "144926    GVR 2025-01-02   30500.000000   29200.000000      -0.042623      0   \n",
      "144928    CTD 2025-01-02   69600.000000   81900.000000       0.176724      1   \n",
      "144929    FTS 2025-01-02   37964.250000   37111.625000      -0.022459      0   \n",
      "144930    SIP 2025-01-02   70594.128000   71282.851200       0.009756      0   \n",
      "144931    ANV 2025-01-02   19700.000000   17300.000000      -0.121827      0   \n",
      "144932    PDR 2025-01-02   19166.130000   18332.820000      -0.043478      0   \n",
      "144933    VCG 2025-01-02   16352.625447   18184.476932       0.112022      0   \n",
      "144934    PNJ 2025-01-02   97302.810000   98992.440000       0.017365      0   \n",
      "144935    CTS 2025-01-02   24720.255000   24230.745000      -0.019802      0   \n",
      "144936    CMG 2025-01-02   49300.000000   45200.000000      -0.083164      0   \n",
      "144937    PTB 2025-01-02   64366.260000   61838.280000      -0.039275      0   \n",
      "144938    SAB 2025-01-02   52302.920000   49574.890000      -0.052158      0   \n",
      "144939    KOS 2025-01-02   38550.000000   39200.000000       0.016861      0   \n",
      "144940    PVT 2025-01-02   21174.920000   20190.040000      -0.046512      0   \n",
      "144941    VHC 2025-01-02   71100.000000   70500.000000      -0.008439      0   \n",
      "\n",
      "        pred  \n",
      "144921     1  \n",
      "144922     0  \n",
      "144923     1  \n",
      "144924     0  \n",
      "144925     0  \n",
      "144926     0  \n",
      "144928     0  \n",
      "144929     0  \n",
      "144930     0  \n",
      "144931     0  \n",
      "144932     0  \n",
      "144933     0  \n",
      "144934     0  \n",
      "144935     0  \n",
      "144936     0  \n",
      "144937     0  \n",
      "144938     0  \n",
      "144939     0  \n",
      "144940     0  \n",
      "144941     0  \n",
      "\n",
      "Confusion Matrix 2025:\n",
      "[[9462 2187]\n",
      " [1126  590]]\n",
      "\n",
      "Báo cáo chi tiết 2025:\n",
      "              precision    recall  f1-score   support\n",
      "\n",
      "           0     0.8937    0.8123    0.8510     11649\n",
      "           1     0.2125    0.3438    0.2626      1716\n",
      "\n",
      "    accuracy                         0.7521     13365\n",
      "   macro avg     0.5531    0.5780    0.5568     13365\n",
      "weighted avg     0.8062    0.7521    0.7755     13365\n",
      "\n",
      "\n",
      "Tổng lợi nhuận chiến lược 2025: 235.11\n",
      "Lợi nhuận trung bình mỗi giao dịch: 0.0200\n"
     ]
    }
   ],
   "source": [
    "if len(X_pred) > 0:\n",
    "    y_pred_2025 = best_model.predict(X_pred)\n",
    "    df_pred = df_pred.copy()\n",
    "    df_pred[\"pred\"] = y_pred_2025\n",
    "\n",
    "    # So khớp với label thực tế\n",
    "    df_pred[\"correct\"] = (df_pred[\"pred\"] == df_pred[\"label\"]).astype(int)\n",
    "    accuracy_2025 = df_pred[\"correct\"].mean()\n",
    "\n",
    "    print(\"\\nKết quả dự đoán cho 2025:\")\n",
    "    print(f\"Accuracy 2025: {accuracy_2025:.2%}\")\n",
    "    print(\"\\nSo sánh nhãn thực tế vs dự đoán (sample):\")\n",
    "    print(df_pred[[\"ticker\",\"date\",\"close\",\"future_close\",\"future_return\",\"label\",\"pred\"]].head(20))\n",
    "\n",
    "    # Confusion Matrix 2025\n",
    "    cm = confusion_matrix(df_pred[\"label\"], df_pred[\"pred\"])\n",
    "    print(\"\\nConfusion Matrix 2025:\")\n",
    "    print(cm)\n",
    "\n",
    "    print(\"\\nBáo cáo chi tiết 2025:\")\n",
    "    print(classification_report(df_pred[\"label\"], df_pred[\"pred\"], digits=4))\n",
    "\n",
    "    # Backtest lợi nhuận chiến lược\n",
    "    df_pred[\"strategy_return\"] = df_pred[\"pred\"] * df_pred[\"future_return\"]\n",
    "    total_return = df_pred[\"strategy_return\"].sum()\n",
    "    avg_return = df_pred[\"strategy_return\"].mean()\n",
    "    print(f\"\\nTổng lợi nhuận chiến lược 2025: {total_return:.2f}\")\n",
    "    print(f\"Lợi nhuận trung bình mỗi giao dịch: {avg_return:.4f}\")\n",
    "else:\n",
    "    print(\"⚠️ Không có dữ liệu 2025 để dự đoán.\")"
   ]
  },
  {
   "cell_type": "markdown",
   "id": "e036daea",
   "metadata": {},
   "source": [
    "# 9. Potential tickers (having label = 1 & prediction = 1)"
   ]
  },
  {
   "cell_type": "code",
   "execution_count": 17,
   "id": "9dcaa364",
   "metadata": {},
   "outputs": [
    {
     "name": "stdout",
     "output_type": "stream",
     "text": [
      "\n",
      "Danh sách ticker được dự đoán và thực tế tăng (label=1 & pred=1):\n",
      "    ticker       date         close  future_close  future_return  label  pred\n",
      "0      SBT 2025-01-02  11681.935000  13500.000000       0.155630      1     1\n",
      "1      GEE 2025-01-02  26457.298491  35753.106069       0.351351      1     1\n",
      "2      GEX 2025-01-03  17196.458208  20093.687580       0.168478      1     1\n",
      "3      GEE 2025-01-03  25781.962043  35117.495294       0.362096      1     1\n",
      "4      SBT 2025-01-03  11409.205000  13500.000000       0.183255      1     1\n",
      "..     ...        ...           ...           ...            ...    ...   ...\n",
      "585    POW 2025-08-05  14500.000000  16750.000000       0.155172      1     1\n",
      "586    HHV 2025-08-05  13150.000000  15600.000000       0.186312      1     1\n",
      "587    TCH 2025-08-05  20329.040000  24150.000000       0.187956      1     1\n",
      "588    VIX 2025-08-05  26800.000000  37500.000000       0.399254      1     1\n",
      "589    VSC 2025-08-05  24600.000000  32800.000000       0.333333      1     1\n",
      "\n",
      "[590 rows x 7 columns]\n",
      "\n",
      "✅ Đã lưu danh sách vào file SVM_selected.csv\n"
     ]
    }
   ],
   "source": [
    "\n",
    "if len(X_pred) > 0:\n",
    "    df_selected = df_pred[(df_pred[\"label\"] == 1) & (df_pred[\"pred\"] == 1)].copy()\n",
    "    if not df_selected.empty:\n",
    "        print(\"\\nDanh sách ticker được dự đoán và thực tế tăng (label=1 & pred=1):\")\n",
    "        print(df_selected[[\"ticker\",\"date\",\"close\",\"future_close\",\"future_return\",\"label\",\"pred\"]].reset_index(drop=True))\n",
    "        \n",
    "        # Lưu vào CSV\n",
    "        df_selected[[\"ticker\",\"date\",\"close\",\"future_close\",\"future_return\",\"label\",\"pred\"]].to_csv(\"data/SVM_selected.csv\", index=False)\n",
    "        print(\"\\n✅ Đã lưu danh sách vào file SVM_selected.csv\")\n",
    "    else:\n",
    "        print(\"\\n⚠️ Không có ticker nào mà label=1 và pred=1 trong năm 2025.\")\n"
   ]
  },
  {
   "cell_type": "markdown",
   "id": "7319939d",
   "metadata": {},
   "source": [
    "## **Prediction for abnormal period**\n"
   ]
  },
  {
   "cell_type": "markdown",
   "id": "41f753ea",
   "metadata": {},
   "source": [
    "### An example: "
   ]
  },
  {
   "cell_type": "markdown",
   "id": "ffa90ae4",
   "metadata": {},
   "source": [
    "* **April 1, 2025**: The United States unexpectedly imposed a **45% tariff** on Vietnamese goods.\n",
    "* **July 1, 2025**: The tariff was reduced to **20%**.\n",
    "* Our team will conduct an **evaluation of the model’s predictive capability** during this volatile period.\n"
   ]
  },
  {
   "cell_type": "code",
   "execution_count": 18,
   "id": "00d83600",
   "metadata": {},
   "outputs": [
    {
     "name": "stdout",
     "output_type": "stream",
     "text": [
      "\n",
      "Kết quả dự đoán 02/04/2025 - 02/07/2025:\n",
      "Accuracy: 66.71%\n",
      "\n",
      "Confusion Matrix:\n",
      "[[2999 1159]\n",
      " [ 513  351]]\n",
      "\n",
      "Classification Report:\n",
      "              precision    recall  f1-score   support\n",
      "\n",
      "           0     0.8539    0.7213    0.7820      4158\n",
      "           1     0.2325    0.4062    0.2957       864\n",
      "\n",
      "    accuracy                         0.6671      5022\n",
      "   macro avg     0.5432    0.5638    0.5389      5022\n",
      "weighted avg     0.7470    0.6671    0.6983      5022\n",
      "\n",
      "Tổng lợi nhuận chiến lược: 145.93\n",
      "Lợi nhuận trung bình mỗi giao dịch: 0.0291\n"
     ]
    }
   ],
   "source": [
    "start_date = pd.to_datetime(\"2025-04-01\")\n",
    "end_date   = pd.to_datetime(\"2025-07-01\")\n",
    "\n",
    "mask_period = (df_pred[\"date\"] >= start_date) & (df_pred[\"date\"] <= end_date)\n",
    "df_period = df_pred[mask_period].copy()\n",
    "\n",
    "if not df_period.empty:\n",
    "    X_period = df_period[features].values\n",
    "    X_period_scaled = best_model.named_steps['scaler'].transform(X_period)\n",
    "    \n",
    "    y_pred_period = best_model.named_steps['clf'].predict(X_period_scaled)\n",
    "    df_period[\"pred\"] = y_pred_period\n",
    "    df_period[\"correct\"] = (df_period[\"pred\"] == df_period[\"label\"]).astype(int)\n",
    "    accuracy_period = df_period[\"correct\"].mean()\n",
    "    \n",
    "    print(f\"\\nKết quả dự đoán 02/04/2025 - 02/07/2025:\")\n",
    "    print(f\"Accuracy: {accuracy_period:.2%}\")\n",
    "    print(\"\\nConfusion Matrix:\")\n",
    "    print(confusion_matrix(df_period[\"label\"], df_period[\"pred\"]))\n",
    "    print(\"\\nClassification Report:\")\n",
    "    print(classification_report(df_period[\"label\"], df_period[\"pred\"], digits=4))\n",
    "    df_period[\"strategy_return\"] = df_period[\"pred\"] * df_period[\"future_return\"]\n",
    "    total_return_period = df_period[\"strategy_return\"].sum()\n",
    "    avg_return_period = df_period[\"strategy_return\"].mean()\n",
    "    print(f\"Tổng lợi nhuận chiến lược: {total_return_period:.2f}\")\n",
    "    print(f\"Lợi nhuận trung bình mỗi giao dịch: {avg_return_period:.4f}\")\n",
    "else:\n",
    "    print(\"⚠️ Không có dữ liệu trong khoảng 02/04/2025 - 02/07/2025 để dự đoán.\")\n"
   ]
  },
  {
   "cell_type": "markdown",
   "id": "561186d4",
   "metadata": {},
   "source": [
    "**Model Evaluation:**\n",
    "\n",
    "* The model achieves relatively good accuracy and can be considered a reliable reference for investors, especially during volatile market periods.\n",
    "* However, Class 1 data remains significantly smaller compared to Class 0. Although SMOTE was applied to balance the data, this imbalance still affects the overall accuracy.\n",
    "\n",
    "**Proposed Solutions:**\n",
    "\n",
    "* Collect more data from diverse sources to minimize imbalance.\n",
    "* Apply more advanced models that can incorporate political, social, and macroeconomic factors to improve predictive accuracy.\n",
    "* Examples:\n",
    "\n",
    "  * **Hybrid Models** (combining FA + TA + Macro).\n",
    "  * Integration of fundamental analysis (FA), technical analysis (TA), and macro-political-social data.\n",
    "  * For instance, using a **Graph Neural Network (GNN)** to model relationships between industries and political events.\n",
    "\n"
   ]
  }
 ],
 "metadata": {
  "kernelspec": {
   "display_name": "fiinquantx_env",
   "language": "python",
   "name": "python3"
  },
  "language_info": {
   "codemirror_mode": {
    "name": "ipython",
    "version": 3
   },
   "file_extension": ".py",
   "mimetype": "text/x-python",
   "name": "python",
   "nbconvert_exporter": "python",
   "pygments_lexer": "ipython3",
   "version": "3.12.5"
  }
 },
 "nbformat": 4,
 "nbformat_minor": 5
}
