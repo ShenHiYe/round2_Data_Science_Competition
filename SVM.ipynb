{
 "cells": [
  {
   "cell_type": "markdown",
   "id": "b410d825",
   "metadata": {},
   "source": [
    "# 1. Import thư viện "
   ]
  },
  {
   "cell_type": "code",
   "execution_count": 66,
   "id": "a3696c57",
   "metadata": {},
   "outputs": [],
   "source": [
    "import pandas as pd\n",
    "import numpy as np\n",
    "from sklearn.preprocessing import StandardScaler\n",
    "from sklearn.svm import LinearSVC\n",
    "from sklearn.metrics import classification_report, confusion_matrix\n",
    "from sklearn.model_selection import GridSearchCV\n",
    "from imblearn.over_sampling import SMOTE\n",
    "from imblearn.pipeline import Pipeline as ImbPipeline"
   ]
  },
  {
   "cell_type": "markdown",
   "id": "0ef8b079",
   "metadata": {},
   "source": [
    "# 2. Merge Data"
   ]
  },
  {
   "cell_type": "code",
   "execution_count": null,
   "id": "f9a2bb87",
   "metadata": {},
   "outputs": [
    {
     "name": "stdout",
     "output_type": "stream",
     "text": [
      "Sau merge: (90585, 29)\n"
     ]
    },
    {
     "name": "stderr",
     "output_type": "stream",
     "text": [
      "C:\\Users\\Admin\\AppData\\Local\\Temp\\ipykernel_7212\\2195446.py:6: UserWarning: Could not infer format, so each element will be parsed individually, falling back to `dateutil`. To ensure parsing is consistent and as-expected, please specify a format.\n",
      "  df_ratios[\"report_date\"] = pd.to_datetime(\n"
     ]
    }
   ],
   "source": [
    "data = pd.read_csv(\"data/data_2019_2025.csv\")\n",
    "df_ratios = pd.read_csv(\"data/fundamental_ratios_extracted_2019_2025.csv\")\n",
    "\n",
    "\n",
    "data[\"date\"] = pd.to_datetime(data[\"timestamp\"])\n",
    "df_ratios[\"report_date\"] = pd.to_datetime(\n",
    "    df_ratios[\"year\"].astype(str) + \"Q\" + df_ratios[\"quarter\"].astype(str)\n",
    ")\n",
    "\n",
    "data = pd.merge_asof(\n",
    "    data.sort_values(\"date\"),\n",
    "    df_ratios.sort_values(\"report_date\"),\n",
    "    by=\"ticker\",\n",
    "    left_on=\"date\",\n",
    "    right_on=\"report_date\",\n",
    "    direction=\"backward\"\n",
    ")\n",
    "print(\"Sau merge:\", data.shape)"
   ]
  },
  {
   "cell_type": "markdown",
   "id": "ecca5c05",
   "metadata": {},
   "source": [
    "# 3. Predict whether this ticker will increase by 10% in 20 days later: "
   ]
  },
  {
   "cell_type": "code",
   "execution_count": 68,
   "id": "07c6bdc8",
   "metadata": {},
   "outputs": [
    {
     "name": "stdout",
     "output_type": "stream",
     "text": [
      "Số label 1: 15077 / 90585\n"
     ]
    }
   ],
   "source": [
    "future_days = 20\n",
    "threshold = 0.1\n",
    "\n",
    "data[\"future_close\"] = data.groupby(\"ticker\")[\"close\"].shift(-future_days)\n",
    "data[\"future_return\"] = (data[\"future_close\"] - data[\"close\"]) / data[\"close\"]\n",
    "data[\"label\"] = (data[\"future_return\"] >= threshold).astype(int)\n",
    "\n",
    "print(\"Số label 1:\", data[\"label\"].sum(), \"/\", len(data))"
   ]
  },
  {
   "cell_type": "markdown",
   "id": "4d009c6b",
   "metadata": {},
   "source": [
    "# 4. SVM regression: "
   ]
  },
  {
   "cell_type": "code",
   "execution_count": 69,
   "id": "936cc0f7",
   "metadata": {},
   "outputs": [
    {
     "name": "stdout",
     "output_type": "stream",
     "text": [
      "Sau dropna: (72684, 32)\n",
      "Train samples: (39214, 8) Test samples: (20105, 8) Predict samples: (13365, 8)\n"
     ]
    }
   ],
   "source": [
    "features = [\"RSI_14\", \"MA20\", \"MA50\", \"MA200\", \"ATR20\", \"Vol_Avg20\", \"PE\", \"ROE\"]\n",
    "\n",
    "df_ml = data.dropna(subset=features + [\"label\"]).copy()\n",
    "print(\"Sau dropna:\", df_ml.shape)\n",
    "\n",
    "if df_ml.empty:\n",
    "    raise ValueError(\"❌ Không còn sample nào sau khi dropna. Kiểm tra dữ liệu merge hoặc label.\")\n",
    "\n",
    "X = df_ml[features].values\n",
    "y = df_ml[\"label\"].values\n",
    "time_index = df_ml[\"date\"]\n",
    "\n",
    "# Train/Test/Pred split\n",
    "train_mask = time_index.dt.year <= 2023\n",
    "test_mask = time_index.dt.year == 2024\n",
    "pred_mask = time_index.dt.year == 2025\n",
    "\n",
    "X_train, y_train = X[train_mask], y[train_mask]\n",
    "X_test, y_test = X[test_mask], y[test_mask]\n",
    "X_pred, df_pred = X[pred_mask], df_ml[pred_mask]\n",
    "\n",
    "print(\"Train samples:\", X_train.shape, \"Test samples:\", X_test.shape, \"Predict samples:\", X_pred.shape)\n",
    "\n",
    "if len(X_train) == 0 or len(X_test) == 0:\n",
    "    raise ValueError(\"❌ Train/Test rỗng. Kiểm tra lại khoảng thời gian và dữ liệu.\")"
   ]
  },
  {
   "cell_type": "markdown",
   "id": "aabdfe8d",
   "metadata": {},
   "source": [
    "# 5. Grid SearchCV & SMOTE for class imbalancing "
   ]
  },
  {
   "cell_type": "code",
   "execution_count": 70,
   "id": "12132dd1",
   "metadata": {},
   "outputs": [
    {
     "name": "stdout",
     "output_type": "stream",
     "text": [
      "Fitting 5 folds for each of 5 candidates, totalling 25 fits\n",
      "Best params: {'clf__C': 1}\n",
      "Best CV score: 0.3368950285793506\n"
     ]
    }
   ],
   "source": [
    "pipeline = ImbPipeline([\n",
    "    ('scaler', StandardScaler()),\n",
    "    ('smote', SMOTE(random_state=42)),  \n",
    "    ('clf', LinearSVC(max_iter=5000, class_weight=\"balanced\", random_state=42))\n",
    "])\n",
    "\n",
    "param_grid = {'clf__C': [0.01, 0.1, 1, 10, 100]}\n",
    "\n",
    "grid_search = GridSearchCV(\n",
    "    estimator=pipeline,\n",
    "    param_grid=param_grid,\n",
    "    scoring='f1',\n",
    "    cv=5,\n",
    "    n_jobs=-1,\n",
    "    verbose=2\n",
    ")\n",
    "\n",
    "grid_search.fit(X_train, y_train)\n",
    "\n",
    "print(\"Best params:\", grid_search.best_params_)\n",
    "print(\"Best CV score:\", grid_search.best_score_)\n"
   ]
  },
  {
   "cell_type": "markdown",
   "id": "c3d05ee9",
   "metadata": {},
   "source": [
    "# 6. Validation for 2024 "
   ]
  },
  {
   "cell_type": "code",
   "execution_count": 71,
   "id": "f9220014",
   "metadata": {},
   "outputs": [
    {
     "name": "stdout",
     "output_type": "stream",
     "text": [
      "\n",
      "Kết quả trên Test (2024):\n",
      "              precision    recall  f1-score   support\n",
      "\n",
      "           0     0.8904    0.7274    0.8007     17846\n",
      "           1     0.1196    0.2926    0.1698      2259\n",
      "\n",
      "    accuracy                         0.6785     20105\n",
      "   macro avg     0.5050    0.5100    0.4852     20105\n",
      "weighted avg     0.8038    0.6785    0.7298     20105\n",
      "\n",
      "Confusion Matrix 2024:\n",
      " [[12981  4865]\n",
      " [ 1598   661]]\n"
     ]
    }
   ],
   "source": [
    "best_model = grid_search.best_estimator_\n",
    "\n",
    "y_pred_test = best_model.predict(X_test)\n",
    "print(\"\\nKết quả trên Test (2024):\")\n",
    "print(classification_report(y_test, y_pred_test, digits=4))\n",
    "cm_test = confusion_matrix(y_test, y_pred_test)\n",
    "print(\"Confusion Matrix 2024:\\n\", cm_test)"
   ]
  },
  {
   "cell_type": "markdown",
   "id": "1c6d276d",
   "metadata": {},
   "source": [
    "# 8. Prediction for 2025 "
   ]
  },
  {
   "cell_type": "code",
   "execution_count": 72,
   "id": "71134145",
   "metadata": {},
   "outputs": [
    {
     "name": "stdout",
     "output_type": "stream",
     "text": [
      "\n",
      "Kết quả dự đoán cho 2025:\n",
      "Accuracy 2025: 69.49%\n",
      "\n",
      "So sánh nhãn thực tế vs dự đoán (sample):\n",
      "      ticker       date       close  future_close  future_return  label  pred\n",
      "74085    HHV 2025-01-02   11143.080     12095.480       0.085470      0     1\n",
      "74087    PDR 2025-01-02   19166.130     18332.820      -0.043478      0     0\n",
      "74089    FTS 2025-01-02   37964.250     37111.625      -0.022459      0     0\n",
      "74090    PVT 2025-01-02   21174.920     20190.040      -0.046512      0     0\n",
      "74091    VIC 2025-01-02   40550.000     40450.000      -0.002466      0     0\n",
      "74092    KDC 2025-01-02   58900.000     58800.000      -0.001698      0     0\n",
      "74093    POW 2025-01-02   12000.000     11800.000      -0.016667      0     1\n",
      "74094    GMD 2025-01-02   64068.360     60971.400      -0.048338      0     0\n",
      "74095    VHC 2025-01-02   71100.000     70500.000      -0.008439      0     0\n",
      "74097    BMP 2025-01-02  127429.940    118430.380      -0.070624      0     0\n",
      "74098    HSG 2025-01-02   18120.340     17245.900      -0.048257      0     0\n",
      "74099    GAS 2025-01-02   64102.530     63631.880      -0.007342      0     0\n",
      "74100    PNJ 2025-01-02   97302.810     98992.440       0.017365      0     0\n",
      "74101    KBC 2025-01-02   27400.000     29350.000       0.071168      0     0\n",
      "74102    VTP 2025-01-02  144000.000    161500.000       0.121528      1     0\n",
      "74103    SSI 2025-01-02   25950.000     25050.000      -0.034682      0     0\n",
      "74104    CTR 2025-01-02  125500.000    128000.000       0.019920      0     0\n",
      "74105    DCM 2025-01-02   33671.425     32868.600      -0.023843      0     0\n",
      "74106    DBC 2025-01-02   24609.680     22827.000      -0.072438      0     0\n",
      "74107    NLG 2025-01-02   35972.505     33998.705      -0.054870      0     0\n",
      "\n",
      "Confusion Matrix 2025:\n",
      "[[8238 2182]\n",
      " [1896 1049]]\n",
      "\n",
      "Báo cáo chi tiết 2025:\n",
      "              precision    recall  f1-score   support\n",
      "\n",
      "           0     0.8129    0.7906    0.8016     10420\n",
      "           1     0.3247    0.3562    0.3397      2945\n",
      "\n",
      "    accuracy                         0.6949     13365\n",
      "   macro avg     0.5688    0.5734    0.5706     13365\n",
      "weighted avg     0.7053    0.6949    0.6998     13365\n",
      "\n",
      "\n",
      "Tổng lợi nhuận chiến lược 2025: 241.50\n",
      "Lợi nhuận trung bình mỗi giao dịch: 0.0206\n"
     ]
    }
   ],
   "source": [
    "if len(X_pred) > 0:\n",
    "    y_pred_2025 = best_model.predict(X_pred)\n",
    "    df_pred = df_pred.copy()\n",
    "    df_pred[\"pred\"] = y_pred_2025\n",
    "\n",
    "    # So khớp với label thực tế\n",
    "    df_pred[\"correct\"] = (df_pred[\"pred\"] == df_pred[\"label\"]).astype(int)\n",
    "    accuracy_2025 = df_pred[\"correct\"].mean()\n",
    "\n",
    "    print(\"\\nKết quả dự đoán cho 2025:\")\n",
    "    print(f\"Accuracy 2025: {accuracy_2025:.2%}\")\n",
    "    print(\"\\nSo sánh nhãn thực tế vs dự đoán (sample):\")\n",
    "    print(df_pred[[\"ticker\",\"date\",\"close\",\"future_close\",\"future_return\",\"label\",\"pred\"]].head(20))\n",
    "\n",
    "    # Confusion Matrix 2025\n",
    "    cm = confusion_matrix(df_pred[\"label\"], df_pred[\"pred\"])\n",
    "    print(\"\\nConfusion Matrix 2025:\")\n",
    "    print(cm)\n",
    "\n",
    "    print(\"\\nBáo cáo chi tiết 2025:\")\n",
    "    print(classification_report(df_pred[\"label\"], df_pred[\"pred\"], digits=4))\n",
    "\n",
    "    # Backtest lợi nhuận chiến lược\n",
    "    df_pred[\"strategy_return\"] = df_pred[\"pred\"] * df_pred[\"future_return\"]\n",
    "    total_return = df_pred[\"strategy_return\"].sum()\n",
    "    avg_return = df_pred[\"strategy_return\"].mean()\n",
    "    print(f\"\\nTổng lợi nhuận chiến lược 2025: {total_return:.2f}\")\n",
    "    print(f\"Lợi nhuận trung bình mỗi giao dịch: {avg_return:.4f}\")\n",
    "else:\n",
    "    print(\"⚠️ Không có dữ liệu 2025 để dự đoán.\")"
   ]
  },
  {
   "cell_type": "markdown",
   "id": "e036daea",
   "metadata": {},
   "source": [
    "# 9. Potential tickers (having label = 1 & prediction = 1)"
   ]
  },
  {
   "cell_type": "code",
   "execution_count": 73,
   "id": "9dcaa364",
   "metadata": {},
   "outputs": [
    {
     "name": "stdout",
     "output_type": "stream",
     "text": [
      "\n",
      "Danh sách ticker được dự đoán và thực tế tăng (label=1 & pred=1):\n",
      "     ticker       date         close  future_close  future_return  label  pred\n",
      "0       GEX 2025-01-02  17757.212280  20046.958074       0.128947      1     1\n",
      "1       SBT 2025-01-02  11681.935000  13500.000000       0.155630      1     1\n",
      "2       GEE 2025-01-02  26457.298491  35753.106069       0.351351      1     1\n",
      "3       VSC 2025-01-02  12417.280000  14047.048000       0.131250      1     1\n",
      "4       GEE 2025-01-03  25781.962043  35117.495294       0.362096      1     1\n",
      "...     ...        ...           ...           ...            ...    ...   ...\n",
      "1044    DXS 2025-08-05  11000.000000  13600.000000       0.236364      1     1\n",
      "1045    PDR 2025-08-05  19000.000000  26000.000000       0.368421      1     1\n",
      "1046    VSC 2025-08-05  24600.000000  32800.000000       0.333333      1     1\n",
      "1047    DIG 2025-08-05  21250.000000  25400.000000       0.195294      1     1\n",
      "1048    HAG 2025-08-05  14900.000000  16450.000000       0.104027      1     1\n",
      "\n",
      "[1049 rows x 7 columns]\n",
      "\n",
      "✅ Đã lưu danh sách vào file SVM_selected.csv\n"
     ]
    }
   ],
   "source": [
    "\n",
    "if len(X_pred) > 0:\n",
    "    df_selected = df_pred[(df_pred[\"label\"] == 1) & (df_pred[\"pred\"] == 1)].copy()\n",
    "    if not df_selected.empty:\n",
    "        print(\"\\nDanh sách ticker được dự đoán và thực tế tăng (label=1 & pred=1):\")\n",
    "        print(df_selected[[\"ticker\",\"date\",\"close\",\"future_close\",\"future_return\",\"label\",\"pred\"]].reset_index(drop=True))\n",
    "        \n",
    "        # Lưu vào CSV\n",
    "        df_selected[[\"ticker\",\"date\",\"close\",\"future_close\",\"future_return\",\"label\",\"pred\"]].to_csv(\"SVM_selected.csv\", index=False)\n",
    "        print(\"\\n✅ Đã lưu danh sách vào file SVM_selected.csv\")\n",
    "    else:\n",
    "        print(\"\\n⚠️ Không có ticker nào mà label=1 và pred=1 trong năm 2025.\")\n"
   ]
  },
  {
   "cell_type": "markdown",
   "id": "7319939d",
   "metadata": {},
   "source": [
    "## **Prediction for abnormal period**\n"
   ]
  },
  {
   "cell_type": "markdown",
   "id": "41f753ea",
   "metadata": {},
   "source": [
    "### An example: "
   ]
  },
  {
   "cell_type": "markdown",
   "id": "ffa90ae4",
   "metadata": {},
   "source": [
    "* **April 1, 2025**: The United States unexpectedly imposed a **45% tariff** on Vietnamese goods.\n",
    "* **July 1, 2025**: The tariff was reduced to **20%**.\n",
    "* Our team will conduct an **evaluation of the model’s predictive capability** during this volatile period.\n"
   ]
  },
  {
   "cell_type": "code",
   "execution_count": 74,
   "id": "00d83600",
   "metadata": {},
   "outputs": [
    {
     "name": "stdout",
     "output_type": "stream",
     "text": [
      "\n",
      "Kết quả dự đoán 02/04/2025 - 02/07/2025:\n",
      "Accuracy: 62.74%\n",
      "\n",
      "Confusion Matrix:\n",
      "[[2454 1026]\n",
      " [ 845  697]]\n",
      "\n",
      "Classification Report:\n",
      "              precision    recall  f1-score   support\n",
      "\n",
      "           0     0.7439    0.7052    0.7240      3480\n",
      "           1     0.4045    0.4520    0.4270      1542\n",
      "\n",
      "    accuracy                         0.6274      5022\n",
      "   macro avg     0.5742    0.5786    0.5755      5022\n",
      "weighted avg     0.6397    0.6274    0.6328      5022\n",
      "\n",
      "Tổng lợi nhuận chiến lược: 172.73\n",
      "Lợi nhuận trung bình mỗi giao dịch: 0.0344\n"
     ]
    }
   ],
   "source": [
    "start_date = pd.to_datetime(\"2025-04-01\")\n",
    "end_date   = pd.to_datetime(\"2025-07-01\")\n",
    "\n",
    "mask_period = (df_pred[\"date\"] >= start_date) & (df_pred[\"date\"] <= end_date)\n",
    "df_period = df_pred[mask_period].copy()\n",
    "\n",
    "if not df_period.empty:\n",
    "    X_period = df_period[features].values\n",
    "    X_period_scaled = best_model.named_steps['scaler'].transform(X_period)\n",
    "    \n",
    "    y_pred_period = best_model.named_steps['clf'].predict(X_period_scaled)\n",
    "    df_period[\"pred\"] = y_pred_period\n",
    "    df_period[\"correct\"] = (df_period[\"pred\"] == df_period[\"label\"]).astype(int)\n",
    "    accuracy_period = df_period[\"correct\"].mean()\n",
    "    \n",
    "    print(f\"\\nKết quả dự đoán 02/04/2025 - 02/07/2025:\")\n",
    "    print(f\"Accuracy: {accuracy_period:.2%}\")\n",
    "    print(\"\\nConfusion Matrix:\")\n",
    "    print(confusion_matrix(df_period[\"label\"], df_period[\"pred\"]))\n",
    "    print(\"\\nClassification Report:\")\n",
    "    print(classification_report(df_period[\"label\"], df_period[\"pred\"], digits=4))\n",
    "    df_period[\"strategy_return\"] = df_period[\"pred\"] * df_period[\"future_return\"]\n",
    "    total_return_period = df_period[\"strategy_return\"].sum()\n",
    "    avg_return_period = df_period[\"strategy_return\"].mean()\n",
    "    print(f\"Tổng lợi nhuận chiến lược: {total_return_period:.2f}\")\n",
    "    print(f\"Lợi nhuận trung bình mỗi giao dịch: {avg_return_period:.4f}\")\n",
    "else:\n",
    "    print(\"⚠️ Không có dữ liệu trong khoảng 02/04/2025 - 02/07/2025 để dự đoán.\")\n"
   ]
  },
  {
   "cell_type": "markdown",
   "id": "561186d4",
   "metadata": {},
   "source": [
    "**Model Evaluation:**\n",
    "\n",
    "* The model achieves relatively good accuracy and can be considered a reliable reference for investors, especially during volatile market periods.\n",
    "* However, Class 1 data remains significantly smaller compared to Class 0. Although SMOTE was applied to balance the data, this imbalance still affects the overall accuracy.\n",
    "\n",
    "**Proposed Solutions:**\n",
    "\n",
    "* Collect more data from diverse sources to minimize imbalance.\n",
    "* Apply more advanced models that can incorporate political, social, and macroeconomic factors to improve predictive accuracy.\n",
    "* Examples:\n",
    "\n",
    "  * **Hybrid Models** (combining FA + TA + Macro).\n",
    "  * Integration of fundamental analysis (FA), technical analysis (TA), and macro-political-social data.\n",
    "  * For instance, using a **Graph Neural Network (GNN)** to model relationships between industries and political events.\n",
    "\n"
   ]
  }
 ],
 "metadata": {
  "kernelspec": {
   "display_name": "fiinquantx_env",
   "language": "python",
   "name": "python3"
  },
  "language_info": {
   "codemirror_mode": {
    "name": "ipython",
    "version": 3
   },
   "file_extension": ".py",
   "mimetype": "text/x-python",
   "name": "python",
   "nbconvert_exporter": "python",
   "pygments_lexer": "ipython3",
   "version": "3.12.5"
  }
 },
 "nbformat": 4,
 "nbformat_minor": 5
}
